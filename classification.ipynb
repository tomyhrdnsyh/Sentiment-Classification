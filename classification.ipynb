{
 "cells": [
  {
   "cell_type": "code",
   "execution_count": 648,
   "id": "c1acc002",
   "metadata": {},
   "outputs": [],
   "source": [
    "from sklearn.feature_extraction.text import CountVectorizer, TfidfTransformer\n",
    "from sklearn.model_selection import train_test_split\n",
    "from sklearn.pipeline import Pipeline\n",
    "from sklearn.metrics import confusion_matrix, ConfusionMatrixDisplay\n",
    "\n",
    "from sklearn.naive_bayes import GaussianNB, MultinomialNB\n",
    "from sklearn.metrics import accuracy_score, log_loss\n",
    "from sklearn.preprocessing import LabelEncoder\n",
    "\n",
    "import pandas as pd\n",
    "import numpy as np\n",
    "import json"
   ]
  },
  {
   "cell_type": "markdown",
   "id": "58868f19",
   "metadata": {},
   "source": [
    "## read file"
   ]
  },
  {
   "cell_type": "code",
   "execution_count": 619,
   "id": "90ae7e31",
   "metadata": {},
   "outputs": [],
   "source": [
    "import ast\n",
    "\n",
    "def convert_text_list(texts):\n",
    "    texts = ast.literal_eval(texts)\n",
    "    return [text for text in texts]"
   ]
  },
  {
   "cell_type": "code",
   "execution_count": 620,
   "id": "a8eccc6f",
   "metadata": {},
   "outputs": [],
   "source": [
    "data = pd.read_excel('assets/cleansing_1.xlsx').iloc[:, 1:]"
   ]
  },
  {
   "cell_type": "code",
   "execution_count": 621,
   "id": "149dec8b",
   "metadata": {},
   "outputs": [
    {
     "data": {
      "text/html": [
       "<div>\n",
       "<style scoped>\n",
       "    .dataframe tbody tr th:only-of-type {\n",
       "        vertical-align: middle;\n",
       "    }\n",
       "\n",
       "    .dataframe tbody tr th {\n",
       "        vertical-align: top;\n",
       "    }\n",
       "\n",
       "    .dataframe thead th {\n",
       "        text-align: right;\n",
       "    }\n",
       "</style>\n",
       "<table border=\"1\" class=\"dataframe\">\n",
       "  <thead>\n",
       "    <tr style=\"text-align: right;\">\n",
       "      <th></th>\n",
       "      <th>lable</th>\n",
       "      <th>content</th>\n",
       "      <th>cleansing</th>\n",
       "      <th>case_folding</th>\n",
       "      <th>tokenization</th>\n",
       "      <th>normalization</th>\n",
       "      <th>stopword</th>\n",
       "      <th>stemmed</th>\n",
       "    </tr>\n",
       "  </thead>\n",
       "  <tbody>\n",
       "    <tr>\n",
       "      <th>0</th>\n",
       "      <td>netral</td>\n",
       "      <td>Paa bales DM pa saya mau nanya soal paket bela...</td>\n",
       "      <td>Paa bales DM pa saya mau nanya soal paket bela...</td>\n",
       "      <td>paa bales dm pa saya mau nanya soal paket bela...</td>\n",
       "      <td>['paa', 'bales', 'dm', 'pa', 'saya', 'mau', 'n...</td>\n",
       "      <td>['paa', 'balas', 'dm', 'pa', 'saya', 'mau', 'b...</td>\n",
       "      <td>['paa', 'balas', 'dm', 'pa', 'paket', 'belajar...</td>\n",
       "      <td>[paa, balas, dm, pa, paket, ajar, telkomsel]</td>\n",
       "    </tr>\n",
       "  </tbody>\n",
       "</table>\n",
       "</div>"
      ],
      "text/plain": [
       "    lable                                            content  \\\n",
       "0  netral  Paa bales DM pa saya mau nanya soal paket bela...   \n",
       "\n",
       "                                           cleansing  \\\n",
       "0  Paa bales DM pa saya mau nanya soal paket bela...   \n",
       "\n",
       "                                        case_folding  \\\n",
       "0  paa bales dm pa saya mau nanya soal paket bela...   \n",
       "\n",
       "                                        tokenization  \\\n",
       "0  ['paa', 'bales', 'dm', 'pa', 'saya', 'mau', 'n...   \n",
       "\n",
       "                                       normalization  \\\n",
       "0  ['paa', 'balas', 'dm', 'pa', 'saya', 'mau', 'b...   \n",
       "\n",
       "                                            stopword  \\\n",
       "0  ['paa', 'balas', 'dm', 'pa', 'paket', 'belajar...   \n",
       "\n",
       "                                        stemmed  \n",
       "0  [paa, balas, dm, pa, paket, ajar, telkomsel]  "
      ]
     },
     "execution_count": 621,
     "metadata": {},
     "output_type": "execute_result"
    }
   ],
   "source": [
    "data.stemmed = data.stemmed.apply(convert_text_list)\n",
    "data.head(1)"
   ]
  },
  {
   "cell_type": "code",
   "execution_count": 622,
   "id": "ad01247d",
   "metadata": {
    "scrolled": true
   },
   "outputs": [
    {
     "name": "stdout",
     "output_type": "stream",
     "text": [
      "<class 'pandas.core.frame.DataFrame'>\n",
      "RangeIndex: 2907 entries, 0 to 2906\n",
      "Data columns (total 8 columns):\n",
      " #   Column         Non-Null Count  Dtype \n",
      "---  ------         --------------  ----- \n",
      " 0   lable          2907 non-null   object\n",
      " 1   content        2907 non-null   object\n",
      " 2   cleansing      2843 non-null   object\n",
      " 3   case_folding   2843 non-null   object\n",
      " 4   tokenization   2907 non-null   object\n",
      " 5   normalization  2907 non-null   object\n",
      " 6   stopword       2907 non-null   object\n",
      " 7   stemmed        2907 non-null   object\n",
      "dtypes: object(8)\n",
      "memory usage: 181.8+ KB\n"
     ]
    }
   ],
   "source": [
    "data.info()"
   ]
  },
  {
   "cell_type": "code",
   "execution_count": 623,
   "id": "cd699d8c",
   "metadata": {},
   "outputs": [
    {
     "data": {
      "text/html": [
       "<div>\n",
       "<style scoped>\n",
       "    .dataframe tbody tr th:only-of-type {\n",
       "        vertical-align: middle;\n",
       "    }\n",
       "\n",
       "    .dataframe tbody tr th {\n",
       "        vertical-align: top;\n",
       "    }\n",
       "\n",
       "    .dataframe thead th {\n",
       "        text-align: right;\n",
       "    }\n",
       "</style>\n",
       "<table border=\"1\" class=\"dataframe\">\n",
       "  <thead>\n",
       "    <tr style=\"text-align: right;\">\n",
       "      <th></th>\n",
       "      <th>lable</th>\n",
       "      <th>content</th>\n",
       "      <th>cleansing</th>\n",
       "      <th>case_folding</th>\n",
       "      <th>tokenization</th>\n",
       "      <th>normalization</th>\n",
       "      <th>stopword</th>\n",
       "      <th>stemmed</th>\n",
       "    </tr>\n",
       "  </thead>\n",
       "  <tbody>\n",
       "    <tr>\n",
       "      <th>0</th>\n",
       "      <td>negatif</td>\n",
       "      <td>5.128  Sekolah Normal lagi pak...</td>\n",
       "      <td>Sekolah Normal lagi pak</td>\n",
       "      <td>sekolah normal lagi pak</td>\n",
       "      <td>['sekolah', 'normal', 'lagi', 'pak']</td>\n",
       "      <td>['sekolah', 'normal', 'lagi', 'pak']</td>\n",
       "      <td>['sekolah', 'normal']</td>\n",
       "      <td>[sekolah, normal]</td>\n",
       "    </tr>\n",
       "    <tr>\n",
       "      <th>1</th>\n",
       "      <td>negatif</td>\n",
       "      <td>Pak, kasian di daerah Indonesia yg kesulitan b...</td>\n",
       "      <td>Pak kasian di daerah Indonesia yg kesulitan be...</td>\n",
       "      <td>pak kasian di daerah indonesia yg kesulitan be...</td>\n",
       "      <td>['pak', 'kasian', 'di', 'daerah', 'indonesia',...</td>\n",
       "      <td>['pak', 'kasihan', 'di', 'daerah', 'indonesia'...</td>\n",
       "      <td>['kasihan', 'daerah', 'indonesia', 'kesulitan'...</td>\n",
       "      <td>[kasihan, daerah, indonesia, sulit, ajar, dari...</td>\n",
       "    </tr>\n",
       "  </tbody>\n",
       "</table>\n",
       "</div>"
      ],
      "text/plain": [
       "     lable                                            content  \\\n",
       "0  negatif                  5.128  Sekolah Normal lagi pak...   \n",
       "1  negatif  Pak, kasian di daerah Indonesia yg kesulitan b...   \n",
       "\n",
       "                                           cleansing  \\\n",
       "0                            Sekolah Normal lagi pak   \n",
       "1  Pak kasian di daerah Indonesia yg kesulitan be...   \n",
       "\n",
       "                                        case_folding  \\\n",
       "0                            sekolah normal lagi pak   \n",
       "1  pak kasian di daerah indonesia yg kesulitan be...   \n",
       "\n",
       "                                        tokenization  \\\n",
       "0               ['sekolah', 'normal', 'lagi', 'pak']   \n",
       "1  ['pak', 'kasian', 'di', 'daerah', 'indonesia',...   \n",
       "\n",
       "                                       normalization  \\\n",
       "0               ['sekolah', 'normal', 'lagi', 'pak']   \n",
       "1  ['pak', 'kasihan', 'di', 'daerah', 'indonesia'...   \n",
       "\n",
       "                                            stopword  \\\n",
       "0                              ['sekolah', 'normal']   \n",
       "1  ['kasihan', 'daerah', 'indonesia', 'kesulitan'...   \n",
       "\n",
       "                                             stemmed  \n",
       "0                                  [sekolah, normal]  \n",
       "1  [kasihan, daerah, indonesia, sulit, ajar, dari...  "
      ]
     },
     "execution_count": 623,
     "metadata": {},
     "output_type": "execute_result"
    }
   ],
   "source": [
    "new_data = data.sort_values('lable').reset_index(drop=True)\n",
    "new_data.head(2)"
   ]
  },
  {
   "cell_type": "code",
   "execution_count": 624,
   "id": "d62f8148",
   "metadata": {},
   "outputs": [
    {
     "data": {
      "text/plain": [
       "netral     922\n",
       "positif    869\n",
       "negatif    816\n",
       "Name: lable, dtype: int64"
      ]
     },
     "execution_count": 624,
     "metadata": {},
     "output_type": "execute_result"
    }
   ],
   "source": [
    "new_data = new_data.drop(new_data[new_data.lable == 'netral'].index[-300:]).reset_index(drop=True)\n",
    "new_data.lable.value_counts()"
   ]
  },
  {
   "cell_type": "code",
   "execution_count": 625,
   "id": "016eb12b",
   "metadata": {},
   "outputs": [
    {
     "data": {
      "text/html": [
       "<div>\n",
       "<style scoped>\n",
       "    .dataframe tbody tr th:only-of-type {\n",
       "        vertical-align: middle;\n",
       "    }\n",
       "\n",
       "    .dataframe tbody tr th {\n",
       "        vertical-align: top;\n",
       "    }\n",
       "\n",
       "    .dataframe thead th {\n",
       "        text-align: right;\n",
       "    }\n",
       "</style>\n",
       "<table border=\"1\" class=\"dataframe\">\n",
       "  <thead>\n",
       "    <tr style=\"text-align: right;\">\n",
       "      <th></th>\n",
       "      <th>lable</th>\n",
       "      <th>content</th>\n",
       "      <th>cleansing</th>\n",
       "      <th>case_folding</th>\n",
       "      <th>tokenization</th>\n",
       "      <th>normalization</th>\n",
       "      <th>stopword</th>\n",
       "      <th>stemmed</th>\n",
       "      <th>stemmed_join</th>\n",
       "    </tr>\n",
       "  </thead>\n",
       "  <tbody>\n",
       "    <tr>\n",
       "      <th>0</th>\n",
       "      <td>negatif</td>\n",
       "      <td>5.128  Sekolah Normal lagi pak...</td>\n",
       "      <td>Sekolah Normal lagi pak</td>\n",
       "      <td>sekolah normal lagi pak</td>\n",
       "      <td>['sekolah', 'normal', 'lagi', 'pak']</td>\n",
       "      <td>['sekolah', 'normal', 'lagi', 'pak']</td>\n",
       "      <td>['sekolah', 'normal']</td>\n",
       "      <td>[sekolah, normal]</td>\n",
       "      <td>sekolah normal</td>\n",
       "    </tr>\n",
       "    <tr>\n",
       "      <th>1</th>\n",
       "      <td>negatif</td>\n",
       "      <td>Pak, kasian di daerah Indonesia yg kesulitan b...</td>\n",
       "      <td>Pak kasian di daerah Indonesia yg kesulitan be...</td>\n",
       "      <td>pak kasian di daerah indonesia yg kesulitan be...</td>\n",
       "      <td>['pak', 'kasian', 'di', 'daerah', 'indonesia',...</td>\n",
       "      <td>['pak', 'kasihan', 'di', 'daerah', 'indonesia'...</td>\n",
       "      <td>['kasihan', 'daerah', 'indonesia', 'kesulitan'...</td>\n",
       "      <td>[kasihan, daerah, indonesia, sulit, ajar, dari...</td>\n",
       "      <td>kasihan daerah indonesia sulit ajar daring aki...</td>\n",
       "    </tr>\n",
       "  </tbody>\n",
       "</table>\n",
       "</div>"
      ],
      "text/plain": [
       "     lable                                            content  \\\n",
       "0  negatif                  5.128  Sekolah Normal lagi pak...   \n",
       "1  negatif  Pak, kasian di daerah Indonesia yg kesulitan b...   \n",
       "\n",
       "                                           cleansing  \\\n",
       "0                            Sekolah Normal lagi pak   \n",
       "1  Pak kasian di daerah Indonesia yg kesulitan be...   \n",
       "\n",
       "                                        case_folding  \\\n",
       "0                            sekolah normal lagi pak   \n",
       "1  pak kasian di daerah indonesia yg kesulitan be...   \n",
       "\n",
       "                                        tokenization  \\\n",
       "0               ['sekolah', 'normal', 'lagi', 'pak']   \n",
       "1  ['pak', 'kasian', 'di', 'daerah', 'indonesia',...   \n",
       "\n",
       "                                       normalization  \\\n",
       "0               ['sekolah', 'normal', 'lagi', 'pak']   \n",
       "1  ['pak', 'kasihan', 'di', 'daerah', 'indonesia'...   \n",
       "\n",
       "                                            stopword  \\\n",
       "0                              ['sekolah', 'normal']   \n",
       "1  ['kasihan', 'daerah', 'indonesia', 'kesulitan'...   \n",
       "\n",
       "                                             stemmed  \\\n",
       "0                                  [sekolah, normal]   \n",
       "1  [kasihan, daerah, indonesia, sulit, ajar, dari...   \n",
       "\n",
       "                                        stemmed_join  \n",
       "0                                     sekolah normal  \n",
       "1  kasihan daerah indonesia sulit ajar daring aki...  "
      ]
     },
     "execution_count": 625,
     "metadata": {},
     "output_type": "execute_result"
    }
   ],
   "source": [
    "new_data['stemmed_join'] = new_data.stemmed.apply(lambda x: ' '.join(x))\n",
    "new_data.head(2)"
   ]
  },
  {
   "cell_type": "code",
   "execution_count": 626,
   "id": "310f0083",
   "metadata": {},
   "outputs": [
    {
     "data": {
      "text/plain": [
       "(2607, 9)"
      ]
     },
     "execution_count": 626,
     "metadata": {},
     "output_type": "execute_result"
    }
   ],
   "source": [
    "new_data.shape"
   ]
  },
  {
   "cell_type": "code",
   "execution_count": 649,
   "id": "965a249c",
   "metadata": {},
   "outputs": [],
   "source": [
    "new_data.dropna(inplace=True)"
   ]
  },
  {
   "cell_type": "markdown",
   "id": "ceb0a7a3",
   "metadata": {},
   "source": [
    "## Machine Learning Process"
   ]
  },
  {
   "cell_type": "markdown",
   "id": "b1275e51",
   "metadata": {},
   "source": [
    "### data exploration"
   ]
  },
  {
   "cell_type": "markdown",
   "id": "a8fe8cfe",
   "metadata": {},
   "source": [
    "**lable encoder**"
   ]
  },
  {
   "cell_type": "code",
   "execution_count": 656,
   "id": "ae98c542",
   "metadata": {},
   "outputs": [],
   "source": [
    "le = LabelEncoder()\n",
    "new_data['lable_encode'] = le.fit_transform(new_data.lable)"
   ]
  },
  {
   "cell_type": "markdown",
   "id": "2d470f8a",
   "metadata": {},
   "source": [
    "Output lable encode <br><br>\n",
    "negatif : 0 <br>\n",
    "netral : 1 <br>\n",
    "positif : 2 <br>"
   ]
  },
  {
   "cell_type": "markdown",
   "id": "4a56e885",
   "metadata": {},
   "source": [
    "**split dataset**"
   ]
  },
  {
   "cell_type": "code",
   "execution_count": 665,
   "id": "a9e55acb",
   "metadata": {},
   "outputs": [],
   "source": [
    "X_train, X_test, y_train, y_test = train_test_split(new_data['content'], \n",
    "                                                    new_data['lable_encode'], \n",
    "                                                    test_size=0.2, \n",
    "                                                    random_state=42)"
   ]
  },
  {
   "cell_type": "markdown",
   "id": "381d5b3f",
   "metadata": {},
   "source": [
    "**sample data train**"
   ]
  },
  {
   "cell_type": "code",
   "execution_count": 666,
   "id": "6f2c1b85",
   "metadata": {},
   "outputs": [
    {
     "data": {
      "text/html": [
       "<div>\n",
       "<style scoped>\n",
       "    .dataframe tbody tr th:only-of-type {\n",
       "        vertical-align: middle;\n",
       "    }\n",
       "\n",
       "    .dataframe tbody tr th {\n",
       "        vertical-align: top;\n",
       "    }\n",
       "\n",
       "    .dataframe thead th {\n",
       "        text-align: right;\n",
       "    }\n",
       "</style>\n",
       "<table border=\"1\" class=\"dataframe\">\n",
       "  <thead>\n",
       "    <tr style=\"text-align: right;\">\n",
       "      <th></th>\n",
       "      <th>content</th>\n",
       "    </tr>\n",
       "  </thead>\n",
       "  <tbody>\n",
       "    <tr>\n",
       "      <th>2472</th>\n",
       "      <td>@budieenk_ IG live dgn Deddy tadi siang mas na...</td>\n",
       "    </tr>\n",
       "    <tr>\n",
       "      <th>1433</th>\n",
       "      <td>@fabio_pieloor di jakarta udh ada😂</td>\n",
       "    </tr>\n",
       "    <tr>\n",
       "      <th>2549</th>\n",
       "      <td>Yang nanya mulu kapan sekolah buka, sini aku p...</td>\n",
       "    </tr>\n",
       "    <tr>\n",
       "      <th>2530</th>\n",
       "      <td>Banyak yg minta sekolah padahal resiko nya besar</td>\n",
       "    </tr>\n",
       "    <tr>\n",
       "      <th>2448</th>\n",
       "      <td>@triyanti3392 itu benar</td>\n",
       "    </tr>\n",
       "  </tbody>\n",
       "</table>\n",
       "</div>"
      ],
      "text/plain": [
       "                                                content\n",
       "2472  @budieenk_ IG live dgn Deddy tadi siang mas na...\n",
       "1433                 @fabio_pieloor di jakarta udh ada😂\n",
       "2549  Yang nanya mulu kapan sekolah buka, sini aku p...\n",
       "2530   Banyak yg minta sekolah padahal resiko nya besar\n",
       "2448                            @triyanti3392 itu benar"
      ]
     },
     "execution_count": 666,
     "metadata": {},
     "output_type": "execute_result"
    }
   ],
   "source": [
    "X_train.to_frame().head(5)"
   ]
  },
  {
   "cell_type": "code",
   "execution_count": 671,
   "id": "e83f06ea",
   "metadata": {},
   "outputs": [
    {
     "data": {
      "text/plain": [
       "<Axes: >"
      ]
     },
     "execution_count": 671,
     "metadata": {},
     "output_type": "execute_result"
    },
    {
     "data": {
      "image/png": "[encoded data removed]",
      "text/plain": [
       "<Figure size 640x480 with 1 Axes>"
      ]
     },
     "metadata": {},
     "output_type": "display_data"
    }
   ],
   "source": [
    "y_train.value_counts().plot.bar(rot=0, color='green')"
   ]
  },
  {
   "cell_type": "markdown",
   "id": "f395f7e3",
   "metadata": {},
   "source": [
    "**sample data test**"
   ]
  },
  {
   "cell_type": "code",
   "execution_count": 672,
   "id": "f991a5fe",
   "metadata": {},
   "outputs": [
    {
     "data": {
      "text/html": [
       "<div>\n",
       "<style scoped>\n",
       "    .dataframe tbody tr th:only-of-type {\n",
       "        vertical-align: middle;\n",
       "    }\n",
       "\n",
       "    .dataframe tbody tr th {\n",
       "        vertical-align: top;\n",
       "    }\n",
       "\n",
       "    .dataframe thead th {\n",
       "        text-align: right;\n",
       "    }\n",
       "</style>\n",
       "<table border=\"1\" class=\"dataframe\">\n",
       "  <thead>\n",
       "    <tr style=\"text-align: right;\">\n",
       "      <th></th>\n",
       "      <th>content</th>\n",
       "    </tr>\n",
       "  </thead>\n",
       "  <tbody>\n",
       "    <tr>\n",
       "      <th>56</th>\n",
       "      <td>pakkk tolong pecat semua guru di sekolah saya ...</td>\n",
       "    </tr>\n",
       "    <tr>\n",
       "      <th>194</th>\n",
       "      <td>Pak,Saya mohon Jangan terlalu keras untuk Mena...</td>\n",
       "    </tr>\n",
       "    <tr>\n",
       "      <th>2282</th>\n",
       "      <td>Diantara para jagoan yg ngobrol sama mas mente...</td>\n",
       "    </tr>\n",
       "    <tr>\n",
       "      <th>233</th>\n",
       "      <td>Mall udh buka,tempat wisata?udh buka juga,sara...</td>\n",
       "    </tr>\n",
       "    <tr>\n",
       "      <th>2174</th>\n",
       "      <td>@justpoorpeople sabar aja kalau masalah maksim...</td>\n",
       "    </tr>\n",
       "  </tbody>\n",
       "</table>\n",
       "</div>"
      ],
      "text/plain": [
       "                                                content\n",
       "56    pakkk tolong pecat semua guru di sekolah saya ...\n",
       "194   Pak,Saya mohon Jangan terlalu keras untuk Mena...\n",
       "2282  Diantara para jagoan yg ngobrol sama mas mente...\n",
       "233   Mall udh buka,tempat wisata?udh buka juga,sara...\n",
       "2174  @justpoorpeople sabar aja kalau masalah maksim..."
      ]
     },
     "execution_count": 672,
     "metadata": {},
     "output_type": "execute_result"
    }
   ],
   "source": [
    "X_test.to_frame().head(5)"
   ]
  },
  {
   "cell_type": "code",
   "execution_count": 683,
   "id": "dc4a9cd4",
   "metadata": {},
   "outputs": [
    {
     "data": {
      "text/plain": [
       "<Axes: >"
      ]
     },
     "execution_count": 683,
     "metadata": {},
     "output_type": "execute_result"
    },
    {
     "data": {
      "image/png": "[encoded data removed]",
      "text/plain": [
       "<Figure size 640x480 with 1 Axes>"
      ]
     },
     "metadata": {},
     "output_type": "display_data"
    }
   ],
   "source": [
    "y_test.value_counts().plot.bar(rot=0, color='orange')"
   ]
  },
  {
   "cell_type": "markdown",
   "id": "2e712c0a",
   "metadata": {},
   "source": [
    "### training & testing"
   ]
  },
  {
   "cell_type": "markdown",
   "id": "43bc6c69",
   "metadata": {},
   "source": [
    "**pipeline**"
   ]
  },
  {
   "cell_type": "code",
   "execution_count": 674,
   "id": "09d15c92",
   "metadata": {},
   "outputs": [
    {
     "data": {
      "text/plain": [
       "<2041x7432 sparse matrix of type '<class 'numpy.float64'>'\n",
       "\twith 44899 stored elements in Compressed Sparse Row format>"
      ]
     },
     "execution_count": 674,
     "metadata": {},
     "output_type": "execute_result"
    }
   ],
   "source": [
    "# feature processing pipeline\n",
    "text_features = Pipeline([\n",
    "    ('vect', CountVectorizer()),\n",
    "    ('tfidf', TfidfTransformer()),\n",
    "])\n",
    "\n",
    "text_features.fit_transform(X_train)"
   ]
  },
  {
   "cell_type": "markdown",
   "id": "cd8ac857",
   "metadata": {},
   "source": [
    "**trainin / testing**"
   ]
  },
  {
   "cell_type": "code",
   "execution_count": 675,
   "id": "cbbc9944",
   "metadata": {},
   "outputs": [],
   "source": [
    "pipe = Pipeline([\n",
    "    ('features', text_features),\n",
    "    ('clf', MultinomialNB()),\n",
    "])\n",
    "\n",
    "pipe.fit(X_train, y_train)\n",
    "\n",
    "nb_pred = pipe.predict(X_test)\n",
    "nb_probs = pipe.predict_proba(X_test)\n",
    "\n",
    "accuracy = accuracy_score(y_test, nb_pred) * 100\n",
    "ls = log_loss(y_test, nb_probs)"
   ]
  },
  {
   "cell_type": "markdown",
   "id": "eef990b1",
   "metadata": {},
   "source": [
    "**Accuration**"
   ]
  },
  {
   "cell_type": "code",
   "execution_count": 725,
   "id": "b7982055",
   "metadata": {},
   "outputs": [
    {
     "name": "stdout",
     "output_type": "stream",
     "text": [
      "Accuracy score: 65.75%\n",
      "Log loss: 0.8346661399683892\n"
     ]
    }
   ],
   "source": [
    "print(f\"Accuracy score: {round(accuracy, 2)}%\")\n",
    "print(f\"Log loss: {ls}\")"
   ]
  },
  {
   "cell_type": "markdown",
   "id": "a0bf9891",
   "metadata": {},
   "source": [
    "**Confusion Matrix**"
   ]
  },
  {
   "cell_type": "code",
   "execution_count": 734,
   "id": "a61d0568",
   "metadata": {},
   "outputs": [
    {
     "data": {
      "text/plain": [
       "<sklearn.metrics._plot.confusion_matrix.ConfusionMatrixDisplay at 0x7efb627e1370>"
      ]
     },
     "execution_count": 734,
     "metadata": {},
     "output_type": "execute_result"
    },
    {
     "data": {
      "image/png": "[encoded data removed]",
      "text/plain": [
       "<Figure size 640x480 with 2 Axes>"
      ]
     },
     "metadata": {},
     "output_type": "display_data"
    }
   ],
   "source": [
    "cm = confusion_matrix(y_test, nb_pred)\n",
    "ConfusionMatrixDisplay(cm).plot()"
   ]
  },
  {
   "cell_type": "markdown",
   "id": "e8c7e3eb",
   "metadata": {},
   "source": [
    "**Manual Testing**"
   ]
  },
  {
   "cell_type": "code",
   "execution_count": 733,
   "id": "cf0bb51d",
   "metadata": {},
   "outputs": [
    {
     "name": "stdout",
     "output_type": "stream",
     "text": [
      "Hasil testing\n",
      "-----------------\n",
      "\n",
      "1. setuju belajar daring => positif\n",
      "2. muak belajar online => negatif\n"
     ]
    }
   ],
   "source": [
    "custom_input = ['setuju belajar daring', 'muak belajar online'] # masukan input text ke dalam list ini\n",
    "predict = pipe.predict(custom_input)\n",
    "\n",
    "print('Hasil testing')\n",
    "print('-----------------\\n')\n",
    "for i, _ in enumerate(custom_input):\n",
    "    if predict[i] == 0:\n",
    "        result = 'negatif'\n",
    "    elif predict[i] == 1:\n",
    "        result = 'netral'\n",
    "    else:\n",
    "        result = 'positif'\n",
    "    \n",
    "    print(f'{i+1}. {custom_input[i]} => {result}')"
   ]
  },
  {
   "cell_type": "markdown",
   "id": "0b31f9cf",
   "metadata": {},
   "source": [
    "**evaluate**"
   ]
  },
  {
   "cell_type": "code",
   "execution_count": 697,
   "id": "76b04766",
   "metadata": {},
   "outputs": [],
   "source": [
    "result = pd.DataFrame(X_test.to_list(), columns=['comment'])"
   ]
  },
  {
   "cell_type": "code",
   "execution_count": 702,
   "id": "7f35a06b",
   "metadata": {},
   "outputs": [],
   "source": [
    "result['true_lable'] = y_test.to_list()\n",
    "result['predict_lable'] = nb_pred"
   ]
  },
  {
   "cell_type": "code",
   "execution_count": 703,
   "id": "c643eff6",
   "metadata": {},
   "outputs": [],
   "source": [
    "result['result'] = [True if row.predict_lable == row.true_lable else False for index, row in result.iterrows()]"
   ]
  },
  {
   "cell_type": "code",
   "execution_count": 704,
   "id": "88b0e559",
   "metadata": {},
   "outputs": [
    {
     "data": {
      "text/html": [
       "<div>\n",
       "<style scoped>\n",
       "    .dataframe tbody tr th:only-of-type {\n",
       "        vertical-align: middle;\n",
       "    }\n",
       "\n",
       "    .dataframe tbody tr th {\n",
       "        vertical-align: top;\n",
       "    }\n",
       "\n",
       "    .dataframe thead th {\n",
       "        text-align: right;\n",
       "    }\n",
       "</style>\n",
       "<table border=\"1\" class=\"dataframe\">\n",
       "  <thead>\n",
       "    <tr style=\"text-align: right;\">\n",
       "      <th></th>\n",
       "      <th>comment</th>\n",
       "      <th>predict_lable</th>\n",
       "      <th>true_lable</th>\n",
       "      <th>result</th>\n",
       "    </tr>\n",
       "  </thead>\n",
       "  <tbody>\n",
       "    <tr>\n",
       "      <th>4</th>\n",
       "      <td>@justpoorpeople sabar aja kalau masalah maksim...</td>\n",
       "      <td>1</td>\n",
       "      <td>2</td>\n",
       "      <td>False</td>\n",
       "    </tr>\n",
       "    <tr>\n",
       "      <th>5</th>\n",
       "      <td>@anggunf012 Saya gak tau sih gimana sistemnya....</td>\n",
       "      <td>1</td>\n",
       "      <td>2</td>\n",
       "      <td>False</td>\n",
       "    </tr>\n",
       "    <tr>\n",
       "      <th>11</th>\n",
       "      <td>Belajr belajar belajar</td>\n",
       "      <td>0</td>\n",
       "      <td>1</td>\n",
       "      <td>False</td>\n",
       "    </tr>\n",
       "    <tr>\n",
       "      <th>12</th>\n",
       "      <td>@reihanzailaniahmad yang otomatis akan berkura...</td>\n",
       "      <td>2</td>\n",
       "      <td>1</td>\n",
       "      <td>False</td>\n",
       "    </tr>\n",
       "    <tr>\n",
       "      <th>19</th>\n",
       "      <td>@wina_aqbar i thing itu ga aneh si,maybe itu y...</td>\n",
       "      <td>0</td>\n",
       "      <td>2</td>\n",
       "      <td>False</td>\n",
       "    </tr>\n",
       "  </tbody>\n",
       "</table>\n",
       "</div>"
      ],
      "text/plain": [
       "                                              comment  predict_lable  \\\n",
       "4   @justpoorpeople sabar aja kalau masalah maksim...              1   \n",
       "5   @anggunf012 Saya gak tau sih gimana sistemnya....              1   \n",
       "11                             Belajr belajar belajar              0   \n",
       "12  @reihanzailaniahmad yang otomatis akan berkura...              2   \n",
       "19  @wina_aqbar i thing itu ga aneh si,maybe itu y...              0   \n",
       "\n",
       "    true_lable  result  \n",
       "4            2   False  \n",
       "5            2   False  \n",
       "11           1   False  \n",
       "12           1   False  \n",
       "19           2   False  "
      ]
     },
     "execution_count": 704,
     "metadata": {},
     "output_type": "execute_result"
    }
   ],
   "source": [
    "evaluate = result[result['result'] == False]\n",
    "evaluate.head()"
   ]
  },
  {
   "cell_type": "code",
   "execution_count": null,
   "id": "13d6ec97",
   "metadata": {},
   "outputs": [],
   "source": []
  }
 ],
 "metadata": {
  "kernelspec": {
   "display_name": "Python 3 (ipykernel)",
   "language": "python",
   "name": "python3"
  },
  "language_info": {
   "codemirror_mode": {
    "name": "ipython",
    "version": 3
   },
   "file_extension": ".py",
   "mimetype": "text/x-python",
   "name": "python",
   "nbconvert_exporter": "python",
   "pygments_lexer": "ipython3",
   "version": "3.8.5"
  }
 },
 "nbformat": 4,
 "nbformat_minor": 5
}
